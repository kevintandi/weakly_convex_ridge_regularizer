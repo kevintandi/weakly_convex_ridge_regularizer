{
 "cells": [
  {
   "cell_type": "code",
   "execution_count": null,
   "metadata": {},
   "outputs": [],
   "source": [
    "import pandas as pd\n",
    "import torch\n",
    "import matplotlib.pyplot as plt\n",
    "import sys\n",
    "sys.path.append('../')\n",
    "from training.utils import utils"
   ]
  },
  {
   "attachments": {},
   "cell_type": "markdown",
   "metadata": {},
   "source": [
    "1. Filters"
   ]
  },
  {
   "cell_type": "code",
   "execution_count": null,
   "metadata": {},
   "outputs": [],
   "source": [
    "device = \"cuda:3\"\n",
    "fname = 'test/3D_WCRR-CNN'\n",
    "model = utils.load_model(fname, device=device, dims=3)\n",
    "model.eval()\n",
    "model.to(device)\n",
    "# high accuracy computation of \\|W\\|\n",
    "print(\" **** Updating the Lipschitz constant **** \")\n",
    "#sn_pm = model.conv_layer.spectral_norm(mode=\"power_method\", n_steps=500)"
   ]
  },
  {
   "attachments": {},
   "cell_type": "markdown",
   "metadata": {},
   "source": [
    "view WtW"
   ]
  },
  {
   "cell_type": "code",
   "execution_count": null,
   "metadata": {},
   "outputs": [],
   "source": [
    "plt.imshow(model.conv_layer.get_kernel_WtW()[0,0].detach().cpu().numpy(), cmap=\"gray\")\n",
    "plt.title(r'Impulse reponse of $W^T W$')\n",
    "plt.colorbar()"
   ]
  },
  {
   "cell_type": "code",
   "execution_count": null,
   "metadata": {},
   "outputs": [],
   "source": [
    "def get_filter_image(normalize=False):\n",
    "    kernels = model.conv_layer.get_filters()\n",
    "    s = kernels.shape\n",
    "    n_h = 10\n",
    "    n_w = s[1]//n_h\n",
    "    # scaling with the scaling parameter learnt, for ex at sigma 20\n",
    "    scaling = model.get_scaling(torch.tensor(20).to(device)).view(-1)\n",
    "\n",
    "    weight = torch.sum(kernels**2, dim=(0,2,3))\n",
    "    ord_ = torch.argsort(weight, descending=True)\n",
    "    im = torch.zeros((n_w * s[2], n_h * s[3]))\n",
    "\n",
    "    for i in range(n_w):\n",
    "        for j in range(n_h):\n",
    "            kl = kernels[0, ord_[i*n_h+j]]\n",
    "            if normalize:\n",
    "                kl = kl / torch.linalg.norm(kl)\n",
    "                # kl = kl / kl.abs().max()\n",
    "            else:\n",
    "                kl *= scaling[i]\n",
    "\n",
    "            im[i*s[2]:(i+1)*s[2], j*s[3]:(j+1)*s[3]] =  kl\n",
    "\n",
    "    return im"
   ]
  },
  {
   "cell_type": "code",
   "execution_count": null,
   "metadata": {},
   "outputs": [],
   "source": [
    "plt.figure(figsize=(10,10))\n",
    "plt.imshow(get_filter_image(normalize=True).detach().cpu(), cmap=\"gray\")\n",
    "plt.xticks([])\n",
    "plt.yticks([])"
   ]
  },
  {
   "attachments": {},
   "cell_type": "markdown",
   "metadata": {},
   "source": [
    "2. Profile function"
   ]
  },
  {
   "cell_type": "code",
   "execution_count": null,
   "metadata": {},
   "outputs": [],
   "source": [
    "model.activation_cvx.hyper_param_to_device()\n",
    "model.activation_cvx.hyper_param_to_device()\n",
    "model.update_integrated_params()\n",
    "x = torch.linspace(1.1*model.activation_cvx.x_min.item(), 1.1*model.activation_cvx.x_max.item(), 10000).to(device).view(1, 1, 1, -1)\n",
    "\n",
    "xgrid = torch.linspace(model.activation_cvx.x_min.item(), model.activation_cvx.x_max.item(), model.activation_cvx.num_knots//2 + 1).to(device).view(1, 1, 1, -1)\n",
    "\n",
    "xgrid = torch.linspace(model.activation_cvx.x_min.item(), model.activation_cvx.x_max.item(), model.activation_cvx.num_knots).to(device).view(1, 1, 1, -1)\n",
    "\n",
    "col_l = [x/255 for x in [3, 0, 122]]\n",
    "col_l=\"k\"\n",
    "ms = 200\n",
    "lw = 4\n",
    "lw = 3\n",
    "mew = 1.2\n",
    "mec = \"gray\"\n",
    "mfc = \"red\"\n",
    "\n",
    "plt.figure(figsize=(14,8))\n",
    "sigma = 15\n",
    "plt.subplot(2, 1, 1)\n",
    "y = model.integrate_activation(x, sigma=torch.tensor([sigma], device=device).view(1,1,1,1), skip_scaling=True).squeeze().detach().cpu()\n",
    "\n",
    "col = (55/255, 59/255, 56/255)\n",
    "\n",
    "ygrid = model.integrate_activation(xgrid, sigma=torch.tensor([sigma], device=device).view(1,1,1,1), skip_scaling=True).squeeze().detach().cpu()\n",
    "\n",
    "plt.plot([-0.2, 0.2], [0, 0], color=col, lw=2)\n",
    "plt.plot([0, 0], [-0.1, 1], color=col, lw=2)\n",
    "plt.plot(x.squeeze().detach().cpu(), y, color=col_l, lw=lw)\n",
    "\n",
    "#plt.scatter(xgrid.squeeze().detach().cpu(), ygrid, marker=\"|\", s=ms, fc=mfc, ec=mec, zorder=10, lw=mew)\n",
    "\n",
    "plt.grid()\n",
    "plt.title(\"Potential function\")\n",
    "\n",
    "# plt.xlim(-0.11, 0.11)\n",
    "# plt.ylim(-0.001, 0.006)\n",
    "plt.subplot(2, 1, 2)\n",
    "\n",
    "y = model.activation(x, sigma=torch.tensor([sigma], device=device).view(1,1,1,1), skip_scaling=True)\n",
    "\n",
    "ygrid = model.activation(xgrid, sigma=torch.tensor([sigma], device=device).view(1,1,1,1), skip_scaling=True).squeeze().detach().cpu()\n",
    "\n",
    "plt.plot([-0.2, 0.2], [0, 0], color=col, lw=2)\n",
    "plt.plot([0, 0], [-0.15, 15], color=col, lw=2)\n",
    "#plt.scatter(xgrid.squeeze().detach().cpu(), ygrid, marker=\"|\", s=ms, fc=mfc, ec=mec, zorder=10, lw=mew)\n",
    "plt.plot(x.squeeze().detach().cpu(), y.squeeze().detach().cpu(), color=col_l, lw=lw)\n",
    "plt.grid()\n",
    "# plt.xlim(-0.11, 0.11)\n",
    "# plt.ylim(-0.11, 0.11)\n",
    "\n",
    "plt.title(\"Activation function\")\n",
    "\n"
   ]
  },
  {
   "cell_type": "code",
   "execution_count": null,
   "metadata": {},
   "outputs": [],
   "source": []
  }
 ],
 "metadata": {
  "kernelspec": {
   "display_name": "plugnplay",
   "language": "python",
   "name": "python3"
  },
  "language_info": {
   "codemirror_mode": {
    "name": "ipython",
    "version": 3
   },
   "file_extension": ".py",
   "mimetype": "text/x-python",
   "name": "python",
   "nbconvert_exporter": "python",
   "pygments_lexer": "ipython3",
   "version": "3.9.16"
  },
  "orig_nbformat": 4,
  "vscode": {
   "interpreter": {
    "hash": "4e300030eff7d48b87bea39b7ca77622039701050a46d541e7ec0953052ae3ad"
   }
  }
 },
 "nbformat": 4,
 "nbformat_minor": 2
}
